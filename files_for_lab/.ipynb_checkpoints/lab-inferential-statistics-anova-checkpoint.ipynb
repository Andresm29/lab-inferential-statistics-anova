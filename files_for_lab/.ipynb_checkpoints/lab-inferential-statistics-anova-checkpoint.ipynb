{
 "cells": [
  {
   "cell_type": "markdown",
   "id": "0eff0e19",
   "metadata": {},
   "source": [
    "# Lab | Inferential statistics - ANOVA"
   ]
  },
  {
   "cell_type": "markdown",
   "id": "7a92b0fe",
   "metadata": {},
   "source": [
    "### Part 1\n",
    "\n",
    "In this activity, we will look at another example. Your task is to understand the problem and write down all the steps to set up ANOVA. After the next lesson, we will ask you to solve this problem using Python. Here are the steps that you would need to work on: - Null hypothesis - Alternate hypothesis - Level of significance - Test statistic - P-value - F table"
   ]
  },
  {
   "cell_type": "markdown",
   "id": "ca384df4",
   "metadata": {},
   "source": [
    "### Context\n",
    "\n",
    "Suppose you are working as an analyst in a microprocessor chip manufacturing plant. You have been given the task of analyzing a plasma etching process with respect to changing Power (in Watts) of the plasma beam. Data was collected and provided to you to conduct statistical analysis and check if changing the power of the plasma beam has any effect on the etching rate by the machine. You will conduct ANOVA and check if there is any difference in the mean etching rate for different levels of power. You can find the data anova_lab_data.xlsx file in the files_for_lab folder\n",
    "\n",
    "State the null hypothesis\n",
    "\n",
    "State the alternate hypothesis\n",
    "\n",
    "What is the significance level\n",
    "What are the degrees of freedom of model, error terms, and total DoF\n",
    "\n",
    "Data was collected randomly and provided to you in the table as shown: link to the image - Data"
   ]
  },
  {
   "cell_type": "markdown",
   "id": "0d25157e",
   "metadata": {},
   "source": [
    "### Null hypothesis\n",
    " Changing the power of the plasma beam does not have an effect on the etching rate by the machine"
   ]
  },
  {
   "cell_type": "markdown",
   "id": "65ef4a0f",
   "metadata": {},
   "source": [
    "### Alternate hypothesis\n",
    "Changing the power of the plasma beam has a significant effect on the etching rate"
   ]
  },
  {
   "cell_type": "markdown",
   "id": "7f729217",
   "metadata": {},
   "source": [
    "### Significance level\n",
    "The significance level we will use is 0.05 or 5%"
   ]
  },
  {
   "cell_type": "code",
   "execution_count": 2,
   "id": "130f226d",
   "metadata": {},
   "outputs": [
    {
     "data": {
      "text/html": [
       "<div>\n",
       "<style scoped>\n",
       "    .dataframe tbody tr th:only-of-type {\n",
       "        vertical-align: middle;\n",
       "    }\n",
       "\n",
       "    .dataframe tbody tr th {\n",
       "        vertical-align: top;\n",
       "    }\n",
       "\n",
       "    .dataframe thead th {\n",
       "        text-align: right;\n",
       "    }\n",
       "</style>\n",
       "<table border=\"1\" class=\"dataframe\">\n",
       "  <thead>\n",
       "    <tr style=\"text-align: right;\">\n",
       "      <th></th>\n",
       "      <th>Power</th>\n",
       "      <th>Etching Rate</th>\n",
       "    </tr>\n",
       "  </thead>\n",
       "  <tbody>\n",
       "    <tr>\n",
       "      <th>0</th>\n",
       "      <td>160 W</td>\n",
       "      <td>5.43</td>\n",
       "    </tr>\n",
       "    <tr>\n",
       "      <th>1</th>\n",
       "      <td>180 W</td>\n",
       "      <td>6.24</td>\n",
       "    </tr>\n",
       "    <tr>\n",
       "      <th>2</th>\n",
       "      <td>200 W</td>\n",
       "      <td>8.79</td>\n",
       "    </tr>\n",
       "    <tr>\n",
       "      <th>3</th>\n",
       "      <td>160 W</td>\n",
       "      <td>5.71</td>\n",
       "    </tr>\n",
       "    <tr>\n",
       "      <th>4</th>\n",
       "      <td>180 W</td>\n",
       "      <td>6.71</td>\n",
       "    </tr>\n",
       "    <tr>\n",
       "      <th>5</th>\n",
       "      <td>200 W</td>\n",
       "      <td>9.20</td>\n",
       "    </tr>\n",
       "    <tr>\n",
       "      <th>6</th>\n",
       "      <td>160 W</td>\n",
       "      <td>6.22</td>\n",
       "    </tr>\n",
       "    <tr>\n",
       "      <th>7</th>\n",
       "      <td>180 W</td>\n",
       "      <td>5.98</td>\n",
       "    </tr>\n",
       "    <tr>\n",
       "      <th>8</th>\n",
       "      <td>200 W</td>\n",
       "      <td>7.90</td>\n",
       "    </tr>\n",
       "    <tr>\n",
       "      <th>9</th>\n",
       "      <td>160 W</td>\n",
       "      <td>6.01</td>\n",
       "    </tr>\n",
       "    <tr>\n",
       "      <th>10</th>\n",
       "      <td>180 W</td>\n",
       "      <td>5.66</td>\n",
       "    </tr>\n",
       "    <tr>\n",
       "      <th>11</th>\n",
       "      <td>200 W</td>\n",
       "      <td>8.15</td>\n",
       "    </tr>\n",
       "    <tr>\n",
       "      <th>12</th>\n",
       "      <td>160 W</td>\n",
       "      <td>5.59</td>\n",
       "    </tr>\n",
       "    <tr>\n",
       "      <th>13</th>\n",
       "      <td>180 W</td>\n",
       "      <td>6.60</td>\n",
       "    </tr>\n",
       "    <tr>\n",
       "      <th>14</th>\n",
       "      <td>200 W</td>\n",
       "      <td>7.55</td>\n",
       "    </tr>\n",
       "  </tbody>\n",
       "</table>\n",
       "</div>"
      ],
      "text/plain": [
       "    Power  Etching Rate\n",
       "0   160 W          5.43\n",
       "1   180 W          6.24\n",
       "2   200 W          8.79\n",
       "3   160 W          5.71\n",
       "4   180 W          6.71\n",
       "5   200 W          9.20\n",
       "6   160 W          6.22\n",
       "7   180 W          5.98\n",
       "8   200 W          7.90\n",
       "9   160 W          6.01\n",
       "10  180 W          5.66\n",
       "11  200 W          8.15\n",
       "12  160 W          5.59\n",
       "13  180 W          6.60\n",
       "14  200 W          7.55"
      ]
     },
     "execution_count": 2,
     "metadata": {},
     "output_type": "execute_result"
    }
   ],
   "source": [
    "# Reading the file with the data\n",
    "import pandas as pd\n",
    "\n",
    "data = pd.read_excel(\"anova_lab_data.xlsx\")\n",
    "\n",
    "data"
   ]
  },
  {
   "cell_type": "markdown",
   "id": "334b126c",
   "metadata": {},
   "source": [
    "### Degrees of freedom of model, error terms, and total DoF\n",
    "\n",
    "Degrees of freedom: number of power levels minus 1.. In our case the DoF are 2\n",
    "\n",
    "Error terms: number of observations minus the number of power levels.. In this case the error terms are 12\n",
    "\n",
    "Total DoF: number of observations minus 1.. For us is 14"
   ]
  },
  {
   "cell_type": "markdown",
   "id": "54c81165",
   "metadata": {},
   "source": [
    "### Part 2\n",
    "In this section, use Python to conduct ANOVA.\n",
    "\n",
    "What conclusions can you draw from the experiment and why?"
   ]
  },
  {
   "cell_type": "code",
   "execution_count": 3,
   "id": "8414e515",
   "metadata": {},
   "outputs": [],
   "source": [
    "# Importing necessary libraries\n",
    "import pandas as pd\n",
    "import scipy.stats as stats\n",
    "import statsmodels.api as sm\n",
    "from statsmodels.formula.api import ols"
   ]
  },
  {
   "cell_type": "code",
   "execution_count": 4,
   "id": "b320b7db",
   "metadata": {},
   "outputs": [
    {
     "name": "stdout",
     "output_type": "stream",
     "text": [
      "Index(['power', 'etching_rate'], dtype='object')\n"
     ]
    }
   ],
   "source": [
    "#changing the column names because I was having issues when fitting the model in next cell\n",
    "data.columns = [\"power\", \"etching_rate\"]\n",
    "print(data.columns)"
   ]
  },
  {
   "cell_type": "code",
   "execution_count": 4,
   "id": "a06e878d",
   "metadata": {},
   "outputs": [],
   "source": [
    "# Fit the ANOVA model\n",
    "model = ols(\"etching_rate ~ power\", data=data).fit()\n",
    "\n",
    "# Perform ANOVA\n",
    "anova_table = sm.stats.anova_lm(model, typ=2)"
   ]
  },
  {
   "cell_type": "code",
   "execution_count": 5,
   "id": "8579ad77",
   "metadata": {
    "scrolled": true
   },
   "outputs": [
    {
     "name": "stdout",
     "output_type": "stream",
     "text": [
      "             sum_sq    df          F    PR(>F)\n",
      "power     18.176653   2.0  36.878955  0.000008\n",
      "Residual   2.957240  12.0        NaN       NaN\n"
     ]
    }
   ],
   "source": [
    "# Print ANOVA\n",
    "print(anova_table)"
   ]
  },
  {
   "cell_type": "markdown",
   "id": "ffcfee15",
   "metadata": {},
   "source": [
    "### Conclusion"
   ]
  },
  {
   "cell_type": "markdown",
   "id": "04a13c39",
   "metadata": {},
   "source": [
    "The p-value for the power variable (0.000008) is significantly smaller than the usual threshold of 0.05. This indicates that changing the power of the plasma beam has a significant impact on the etching rate. \n",
    "\n",
    "Also the F-statistic value of 36.878955 shows us that there is a significant difference between the average etching rates of different power levels, the larger the F-statistic, the stronger is the evidence against the null hypothesis.\n",
    "\n",
    "In summary, we can conclude that modifying the power of the plasma beam has a significant influence on the etching rate."
   ]
  },
  {
   "cell_type": "code",
   "execution_count": null,
   "id": "8205376f",
   "metadata": {},
   "outputs": [],
   "source": []
  }
 ],
 "metadata": {
  "kernelspec": {
   "display_name": "Python 3 (ipykernel)",
   "language": "python",
   "name": "python3"
  },
  "language_info": {
   "codemirror_mode": {
    "name": "ipython",
    "version": 3
   },
   "file_extension": ".py",
   "mimetype": "text/x-python",
   "name": "python",
   "nbconvert_exporter": "python",
   "pygments_lexer": "ipython3",
   "version": "3.9.13"
  }
 },
 "nbformat": 4,
 "nbformat_minor": 5
}
